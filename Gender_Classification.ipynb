{
 "cells": [
  {
   "attachments": {},
   "cell_type": "markdown",
   "metadata": {},
   "source": [
    "**Libraries**"
   ]
  },
  {
   "cell_type": "code",
   "execution_count": 1,
   "metadata": {},
   "outputs": [
    {
     "name": "stdout",
     "output_type": "stream",
     "text": [
      "WARNING:tensorflow:From C:\\Users\\ACER\\AppData\\Local\\Packages\\PythonSoftwareFoundation.Python.3.10_qbz5n2kfra8p0\\LocalCache\\local-packages\\Python310\\site-packages\\keras\\src\\losses.py:2976: The name tf.losses.sparse_softmax_cross_entropy is deprecated. Please use tf.compat.v1.losses.sparse_softmax_cross_entropy instead.\n",
      "\n"
     ]
    }
   ],
   "source": [
    "import pandas as pd\n",
    "import librosa\n",
    "import tensorflow as tf\n",
    "import numpy as np\n",
    "from tqdm import tqdm\n",
    "import pyaudio\n",
    "import wave"
   ]
  },
  {
   "attachments": {},
   "cell_type": "markdown",
   "metadata": {},
   "source": [
    "**Reading the CSV File.**"
   ]
  },
  {
   "cell_type": "code",
   "execution_count": 2,
   "metadata": {},
   "outputs": [],
   "source": [
    "df = pd.read_csv('cv-valid-train.csv')\n",
    "df = df[~df['gender'].isna()]"
   ]
  },
  {
   "attachments": {},
   "cell_type": "markdown",
   "metadata": {},
   "source": [
    "**Train Test Split**"
   ]
  },
  {
   "cell_type": "code",
   "execution_count": 3,
   "metadata": {},
   "outputs": [],
   "source": [
    "BASE_DIR = 'cv-valid-train/'\n",
    "X_train, y_train = [], []"
   ]
  },
  {
   "attachments": {},
   "cell_type": "markdown",
   "metadata": {},
   "source": [
    "**Defining Audio features**"
   ]
  },
  {
   "cell_type": "code",
   "execution_count": 4,
   "metadata": {},
   "outputs": [
    {
     "name": "stderr",
     "output_type": "stream",
     "text": [
      "100%|██████████| 74059/74059 [17:40<00:00, 69.82it/s]  \n"
     ]
    }
   ],
   "source": [
    "for i in tqdm(df.index):\n",
    "    file = BASE_DIR + df.loc[i, 'filename']\n",
    "    wf, sr = librosa.load(file)\n",
    "    mfcc_wf = librosa.feature.mfcc(y=wf, sr=sr)\n",
    "    b = tf.keras.utils.pad_sequences(mfcc_wf, padding='post', maxlen=200)\n",
    "    X_train.append(b)\n",
    "    if df.loc[i, 'gender'] == 'male':\n",
    "        y_train.append(1)\n",
    "    else:\n",
    "        y_train.append(0)"
   ]
  },
  {
   "cell_type": "code",
   "execution_count": 5,
   "metadata": {},
   "outputs": [],
   "source": [
    "X_train = np.array(X_train)\n",
    "y_train = np.array(y_train)"
   ]
  },
  {
   "attachments": {},
   "cell_type": "markdown",
   "metadata": {},
   "source": [
    "**DataFrame**"
   ]
  },
  {
   "cell_type": "code",
   "execution_count": 6,
   "metadata": {},
   "outputs": [
    {
     "data": {
      "text/html": [
       "<div>\n",
       "<style scoped>\n",
       "    .dataframe tbody tr th:only-of-type {\n",
       "        vertical-align: middle;\n",
       "    }\n",
       "\n",
       "    .dataframe tbody tr th {\n",
       "        vertical-align: top;\n",
       "    }\n",
       "\n",
       "    .dataframe thead th {\n",
       "        text-align: right;\n",
       "    }\n",
       "</style>\n",
       "<table border=\"1\" class=\"dataframe\">\n",
       "  <thead>\n",
       "    <tr style=\"text-align: right;\">\n",
       "      <th></th>\n",
       "      <th>filename</th>\n",
       "      <th>text</th>\n",
       "      <th>up_votes</th>\n",
       "      <th>down_votes</th>\n",
       "      <th>age</th>\n",
       "      <th>gender</th>\n",
       "      <th>accent</th>\n",
       "      <th>duration</th>\n",
       "    </tr>\n",
       "  </thead>\n",
       "  <tbody>\n",
       "    <tr>\n",
       "      <th>5</th>\n",
       "      <td>cv-valid-train/sample-000005.mp3</td>\n",
       "      <td>a shepherd may like to travel but he should ne...</td>\n",
       "      <td>1</td>\n",
       "      <td>0</td>\n",
       "      <td>twenties</td>\n",
       "      <td>female</td>\n",
       "      <td>us</td>\n",
       "      <td>NaN</td>\n",
       "    </tr>\n",
       "    <tr>\n",
       "      <th>8</th>\n",
       "      <td>cv-valid-train/sample-000008.mp3</td>\n",
       "      <td>put jackie right on the staff</td>\n",
       "      <td>3</td>\n",
       "      <td>0</td>\n",
       "      <td>seventies</td>\n",
       "      <td>male</td>\n",
       "      <td>us</td>\n",
       "      <td>NaN</td>\n",
       "    </tr>\n",
       "    <tr>\n",
       "      <th>13</th>\n",
       "      <td>cv-valid-train/sample-000013.mp3</td>\n",
       "      <td>but he had found a guide and didn't want to mi...</td>\n",
       "      <td>1</td>\n",
       "      <td>0</td>\n",
       "      <td>thirties</td>\n",
       "      <td>female</td>\n",
       "      <td>us</td>\n",
       "      <td>NaN</td>\n",
       "    </tr>\n",
       "    <tr>\n",
       "      <th>14</th>\n",
       "      <td>cv-valid-train/sample-000014.mp3</td>\n",
       "      <td>as they began to decorate the hallway a silhou...</td>\n",
       "      <td>1</td>\n",
       "      <td>0</td>\n",
       "      <td>sixties</td>\n",
       "      <td>male</td>\n",
       "      <td>england</td>\n",
       "      <td>NaN</td>\n",
       "    </tr>\n",
       "    <tr>\n",
       "      <th>19</th>\n",
       "      <td>cv-valid-train/sample-000019.mp3</td>\n",
       "      <td>then they got ahold of some dough and went goofy</td>\n",
       "      <td>1</td>\n",
       "      <td>0</td>\n",
       "      <td>fifties</td>\n",
       "      <td>male</td>\n",
       "      <td>australia</td>\n",
       "      <td>NaN</td>\n",
       "    </tr>\n",
       "    <tr>\n",
       "      <th>...</th>\n",
       "      <td>...</td>\n",
       "      <td>...</td>\n",
       "      <td>...</td>\n",
       "      <td>...</td>\n",
       "      <td>...</td>\n",
       "      <td>...</td>\n",
       "      <td>...</td>\n",
       "      <td>...</td>\n",
       "    </tr>\n",
       "    <tr>\n",
       "      <th>195766</th>\n",
       "      <td>cv-valid-train/sample-195766.mp3</td>\n",
       "      <td>but before i go i want to tell you a little story</td>\n",
       "      <td>1</td>\n",
       "      <td>0</td>\n",
       "      <td>fourties</td>\n",
       "      <td>male</td>\n",
       "      <td>england</td>\n",
       "      <td>NaN</td>\n",
       "    </tr>\n",
       "    <tr>\n",
       "      <th>195767</th>\n",
       "      <td>cv-valid-train/sample-195767.mp3</td>\n",
       "      <td>down below in the darkness were hundreds of pe...</td>\n",
       "      <td>3</td>\n",
       "      <td>0</td>\n",
       "      <td>thirties</td>\n",
       "      <td>female</td>\n",
       "      <td>us</td>\n",
       "      <td>NaN</td>\n",
       "    </tr>\n",
       "    <tr>\n",
       "      <th>195770</th>\n",
       "      <td>cv-valid-train/sample-195770.mp3</td>\n",
       "      <td>he heard a muffled grating sound and saw the b...</td>\n",
       "      <td>4</td>\n",
       "      <td>0</td>\n",
       "      <td>twenties</td>\n",
       "      <td>male</td>\n",
       "      <td>england</td>\n",
       "      <td>NaN</td>\n",
       "    </tr>\n",
       "    <tr>\n",
       "      <th>195771</th>\n",
       "      <td>cv-valid-train/sample-195771.mp3</td>\n",
       "      <td>the englishman said nothing</td>\n",
       "      <td>1</td>\n",
       "      <td>0</td>\n",
       "      <td>thirties</td>\n",
       "      <td>male</td>\n",
       "      <td>england</td>\n",
       "      <td>NaN</td>\n",
       "    </tr>\n",
       "    <tr>\n",
       "      <th>195774</th>\n",
       "      <td>cv-valid-train/sample-195774.mp3</td>\n",
       "      <td>the phone rang while she was awake</td>\n",
       "      <td>2</td>\n",
       "      <td>0</td>\n",
       "      <td>twenties</td>\n",
       "      <td>male</td>\n",
       "      <td>us</td>\n",
       "      <td>NaN</td>\n",
       "    </tr>\n",
       "  </tbody>\n",
       "</table>\n",
       "<p>74059 rows × 8 columns</p>\n",
       "</div>"
      ],
      "text/plain": [
       "                                filename   \n",
       "5       cv-valid-train/sample-000005.mp3  \\\n",
       "8       cv-valid-train/sample-000008.mp3   \n",
       "13      cv-valid-train/sample-000013.mp3   \n",
       "14      cv-valid-train/sample-000014.mp3   \n",
       "19      cv-valid-train/sample-000019.mp3   \n",
       "...                                  ...   \n",
       "195766  cv-valid-train/sample-195766.mp3   \n",
       "195767  cv-valid-train/sample-195767.mp3   \n",
       "195770  cv-valid-train/sample-195770.mp3   \n",
       "195771  cv-valid-train/sample-195771.mp3   \n",
       "195774  cv-valid-train/sample-195774.mp3   \n",
       "\n",
       "                                                     text  up_votes   \n",
       "5       a shepherd may like to travel but he should ne...         1  \\\n",
       "8                           put jackie right on the staff         3   \n",
       "13      but he had found a guide and didn't want to mi...         1   \n",
       "14      as they began to decorate the hallway a silhou...         1   \n",
       "19       then they got ahold of some dough and went goofy         1   \n",
       "...                                                   ...       ...   \n",
       "195766  but before i go i want to tell you a little story         1   \n",
       "195767  down below in the darkness were hundreds of pe...         3   \n",
       "195770  he heard a muffled grating sound and saw the b...         4   \n",
       "195771                        the englishman said nothing         1   \n",
       "195774                 the phone rang while she was awake         2   \n",
       "\n",
       "        down_votes        age  gender     accent  duration  \n",
       "5                0   twenties  female         us       NaN  \n",
       "8                0  seventies    male         us       NaN  \n",
       "13               0   thirties  female         us       NaN  \n",
       "14               0    sixties    male    england       NaN  \n",
       "19               0    fifties    male  australia       NaN  \n",
       "...            ...        ...     ...        ...       ...  \n",
       "195766           0   fourties    male    england       NaN  \n",
       "195767           0   thirties  female         us       NaN  \n",
       "195770           0   twenties    male    england       NaN  \n",
       "195771           0   thirties    male    england       NaN  \n",
       "195774           0   twenties    male         us       NaN  \n",
       "\n",
       "[74059 rows x 8 columns]"
      ]
     },
     "execution_count": 6,
     "metadata": {},
     "output_type": "execute_result"
    }
   ],
   "source": [
    "df"
   ]
  },
  {
   "attachments": {},
   "cell_type": "markdown",
   "metadata": {},
   "source": [
    "**Building The Model**"
   ]
  },
  {
   "cell_type": "code",
   "execution_count": 7,
   "metadata": {},
   "outputs": [
    {
     "name": "stdout",
     "output_type": "stream",
     "text": [
      "WARNING:tensorflow:From C:\\Users\\ACER\\AppData\\Local\\Packages\\PythonSoftwareFoundation.Python.3.10_qbz5n2kfra8p0\\LocalCache\\local-packages\\Python310\\site-packages\\keras\\src\\backend.py:1398: The name tf.executing_eagerly_outside_functions is deprecated. Please use tf.compat.v1.executing_eagerly_outside_functions instead.\n",
      "\n"
     ]
    }
   ],
   "source": [
    "model = tf.keras.Sequential([\n",
    "    tf.keras.layers.Input(shape=(20, 200,)),\n",
    "    tf.keras.layers.Flatten(),\n",
    "    tf.keras.layers.Dense(256, activation='relu', kernel_regularizer=tf.keras.regularizers.l2()),\n",
    "    tf.keras.layers.Dense(128, activation='relu', kernel_regularizer=tf.keras.regularizers.l2()),\n",
    "    tf.keras.layers.Dense(64, activation='relu', kernel_regularizer=tf.keras.regularizers.l2()),\n",
    "    tf.keras.layers.Dense(1, activation='sigmoid')\n",
    "])"
   ]
  },
  {
   "attachments": {},
   "cell_type": "markdown",
   "metadata": {},
   "source": [
    "**Compiling Model**"
   ]
  },
  {
   "cell_type": "code",
   "execution_count": 8,
   "metadata": {},
   "outputs": [
    {
     "name": "stdout",
     "output_type": "stream",
     "text": [
      "WARNING:tensorflow:From C:\\Users\\ACER\\AppData\\Local\\Packages\\PythonSoftwareFoundation.Python.3.10_qbz5n2kfra8p0\\LocalCache\\local-packages\\Python310\\site-packages\\keras\\src\\optimizers\\__init__.py:309: The name tf.train.Optimizer is deprecated. Please use tf.compat.v1.train.Optimizer instead.\n",
      "\n",
      "Epoch 1/100\n",
      "WARNING:tensorflow:From C:\\Users\\ACER\\AppData\\Local\\Packages\\PythonSoftwareFoundation.Python.3.10_qbz5n2kfra8p0\\LocalCache\\local-packages\\Python310\\site-packages\\keras\\src\\utils\\tf_utils.py:492: The name tf.ragged.RaggedTensorValue is deprecated. Please use tf.compat.v1.ragged.RaggedTensorValue instead.\n",
      "\n",
      "WARNING:tensorflow:From C:\\Users\\ACER\\AppData\\Local\\Packages\\PythonSoftwareFoundation.Python.3.10_qbz5n2kfra8p0\\LocalCache\\local-packages\\Python310\\site-packages\\keras\\src\\engine\\base_layer_utils.py:384: The name tf.executing_eagerly_outside_functions is deprecated. Please use tf.compat.v1.executing_eagerly_outside_functions instead.\n",
      "\n",
      "1852/1852 [==============================] - 21s 11ms/step - loss: 2.7108 - accuracy: 0.8268 - val_loss: 1.1954 - val_accuracy: 0.8249\n",
      "Epoch 2/100\n",
      "1852/1852 [==============================] - 20s 11ms/step - loss: 0.8907 - accuracy: 0.8501 - val_loss: 0.6751 - val_accuracy: 0.8567\n",
      "Epoch 3/100\n",
      "1852/1852 [==============================] - 20s 11ms/step - loss: 0.5859 - accuracy: 0.8508 - val_loss: 0.5294 - val_accuracy: 0.8493\n",
      "Epoch 4/100\n",
      "1852/1852 [==============================] - 20s 11ms/step - loss: 0.4681 - accuracy: 0.8497 - val_loss: 0.5172 - val_accuracy: 0.7994\n",
      "Epoch 5/100\n",
      "1852/1852 [==============================] - 20s 11ms/step - loss: 0.4128 - accuracy: 0.8528 - val_loss: 0.4042 - val_accuracy: 0.8536\n",
      "Epoch 6/100\n",
      "1852/1852 [==============================] - 20s 11ms/step - loss: 0.3930 - accuracy: 0.8534 - val_loss: 0.3810 - val_accuracy: 0.8545\n",
      "Epoch 7/100\n",
      "1852/1852 [==============================] - 20s 11ms/step - loss: 0.3905 - accuracy: 0.8520 - val_loss: 0.3894 - val_accuracy: 0.8555\n",
      "Epoch 8/100\n",
      "1852/1852 [==============================] - 21s 11ms/step - loss: 0.3838 - accuracy: 0.8529 - val_loss: 0.3879 - val_accuracy: 0.8475\n",
      "Epoch 9/100\n",
      "1852/1852 [==============================] - 20s 11ms/step - loss: 0.3815 - accuracy: 0.8543 - val_loss: 0.3830 - val_accuracy: 0.8548\n",
      "Epoch 10/100\n",
      "1852/1852 [==============================] - 20s 11ms/step - loss: 0.3783 - accuracy: 0.8559 - val_loss: 0.3979 - val_accuracy: 0.8445\n",
      "Epoch 11/100\n",
      "1852/1852 [==============================] - 20s 11ms/step - loss: 0.3812 - accuracy: 0.8532 - val_loss: 0.3826 - val_accuracy: 0.8461\n",
      "Epoch 12/100\n",
      "1852/1852 [==============================] - 20s 11ms/step - loss: 0.3805 - accuracy: 0.8544 - val_loss: 0.4506 - val_accuracy: 0.8202\n",
      "Epoch 13/100\n",
      "1852/1852 [==============================] - 20s 11ms/step - loss: 0.3825 - accuracy: 0.8523 - val_loss: 0.4241 - val_accuracy: 0.8289\n",
      "Epoch 14/100\n",
      "1852/1852 [==============================] - 20s 11ms/step - loss: 0.3808 - accuracy: 0.8529 - val_loss: 0.3742 - val_accuracy: 0.8574\n",
      "Epoch 15/100\n",
      "1852/1852 [==============================] - 20s 11ms/step - loss: 0.3806 - accuracy: 0.8531 - val_loss: 0.3890 - val_accuracy: 0.8429\n",
      "Epoch 16/100\n",
      "1852/1852 [==============================] - 20s 11ms/step - loss: 0.3840 - accuracy: 0.8505 - val_loss: 0.4152 - val_accuracy: 0.8335\n",
      "Epoch 17/100\n",
      "1852/1852 [==============================] - 20s 11ms/step - loss: 0.3820 - accuracy: 0.8535 - val_loss: 0.3677 - val_accuracy: 0.8561\n",
      "Epoch 18/100\n",
      "1852/1852 [==============================] - 20s 11ms/step - loss: 0.3815 - accuracy: 0.8526 - val_loss: 0.3745 - val_accuracy: 0.8503\n",
      "Epoch 19/100\n",
      "1852/1852 [==============================] - 20s 11ms/step - loss: 0.3789 - accuracy: 0.8534 - val_loss: 0.3809 - val_accuracy: 0.8493\n",
      "Epoch 20/100\n",
      "1852/1852 [==============================] - 20s 11ms/step - loss: 0.3799 - accuracy: 0.8532 - val_loss: 0.3727 - val_accuracy: 0.8579\n",
      "Epoch 21/100\n",
      "1852/1852 [==============================] - 20s 11ms/step - loss: 0.3826 - accuracy: 0.8539 - val_loss: 0.4134 - val_accuracy: 0.8349\n",
      "Epoch 22/100\n",
      "1852/1852 [==============================] - 20s 11ms/step - loss: 0.3842 - accuracy: 0.8511 - val_loss: 0.3711 - val_accuracy: 0.8545\n",
      "Epoch 23/100\n",
      "1852/1852 [==============================] - 20s 11ms/step - loss: 0.3830 - accuracy: 0.8523 - val_loss: 0.3719 - val_accuracy: 0.8534\n",
      "Epoch 24/100\n",
      "1852/1852 [==============================] - 20s 11ms/step - loss: 0.3813 - accuracy: 0.8526 - val_loss: 0.3772 - val_accuracy: 0.8557\n",
      "Epoch 25/100\n",
      "1852/1852 [==============================] - 20s 11ms/step - loss: 0.3796 - accuracy: 0.8532 - val_loss: 0.4143 - val_accuracy: 0.8351\n",
      "Epoch 26/100\n",
      "1852/1852 [==============================] - 20s 11ms/step - loss: 0.3818 - accuracy: 0.8524 - val_loss: 0.3718 - val_accuracy: 0.8542\n",
      "Epoch 27/100\n",
      "1852/1852 [==============================] - 20s 11ms/step - loss: 0.3817 - accuracy: 0.8517 - val_loss: 0.4106 - val_accuracy: 0.8334\n",
      "Epoch 28/100\n",
      "1852/1852 [==============================] - 20s 11ms/step - loss: 0.3805 - accuracy: 0.8529 - val_loss: 0.3873 - val_accuracy: 0.8417\n",
      "Epoch 29/100\n",
      "1852/1852 [==============================] - 20s 11ms/step - loss: 0.3785 - accuracy: 0.8525 - val_loss: 0.3766 - val_accuracy: 0.8519\n",
      "Epoch 30/100\n",
      "1852/1852 [==============================] - 20s 11ms/step - loss: 0.3823 - accuracy: 0.8525 - val_loss: 0.4223 - val_accuracy: 0.8330\n",
      "Epoch 31/100\n",
      "1852/1852 [==============================] - 20s 11ms/step - loss: 0.3827 - accuracy: 0.8514 - val_loss: 0.3866 - val_accuracy: 0.8526\n",
      "Epoch 32/100\n",
      "1852/1852 [==============================] - 20s 11ms/step - loss: 0.3797 - accuracy: 0.8531 - val_loss: 0.3714 - val_accuracy: 0.8541\n",
      "Epoch 33/100\n",
      "1852/1852 [==============================] - 20s 11ms/step - loss: 0.3839 - accuracy: 0.8499 - val_loss: 0.3735 - val_accuracy: 0.8494\n",
      "Epoch 34/100\n",
      "1852/1852 [==============================] - 20s 11ms/step - loss: 0.3887 - accuracy: 0.8488 - val_loss: 0.3802 - val_accuracy: 0.8507\n",
      "Epoch 35/100\n",
      "1852/1852 [==============================] - 20s 11ms/step - loss: 0.3808 - accuracy: 0.8525 - val_loss: 0.3654 - val_accuracy: 0.8570\n",
      "Epoch 36/100\n",
      "1852/1852 [==============================] - 20s 11ms/step - loss: 0.3829 - accuracy: 0.8510 - val_loss: 0.3745 - val_accuracy: 0.8508\n",
      "Epoch 37/100\n",
      "1852/1852 [==============================] - 20s 11ms/step - loss: 0.3814 - accuracy: 0.8533 - val_loss: 0.3739 - val_accuracy: 0.8515\n",
      "Epoch 38/100\n",
      "1852/1852 [==============================] - 20s 11ms/step - loss: 0.3807 - accuracy: 0.8523 - val_loss: 0.3848 - val_accuracy: 0.8463\n",
      "Epoch 39/100\n",
      "1852/1852 [==============================] - 20s 11ms/step - loss: 0.3814 - accuracy: 0.8531 - val_loss: 0.3730 - val_accuracy: 0.8578\n",
      "Epoch 40/100\n",
      "1852/1852 [==============================] - 20s 11ms/step - loss: 0.3793 - accuracy: 0.8511 - val_loss: 0.3801 - val_accuracy: 0.8476\n",
      "Epoch 41/100\n",
      "1852/1852 [==============================] - 20s 11ms/step - loss: 0.3823 - accuracy: 0.8515 - val_loss: 0.4133 - val_accuracy: 0.8357\n",
      "Epoch 42/100\n",
      "1852/1852 [==============================] - 20s 11ms/step - loss: 0.3833 - accuracy: 0.8516 - val_loss: 0.3869 - val_accuracy: 0.8452\n",
      "Epoch 43/100\n",
      "1852/1852 [==============================] - 20s 11ms/step - loss: 0.3834 - accuracy: 0.8516 - val_loss: 0.3732 - val_accuracy: 0.8526\n",
      "Epoch 44/100\n",
      "1852/1852 [==============================] - 20s 11ms/step - loss: 0.3834 - accuracy: 0.8532 - val_loss: 0.3719 - val_accuracy: 0.8554\n",
      "Epoch 45/100\n",
      "1852/1852 [==============================] - 20s 11ms/step - loss: 0.3807 - accuracy: 0.8519 - val_loss: 0.4090 - val_accuracy: 0.8408\n",
      "Epoch 46/100\n",
      "1852/1852 [==============================] - 20s 11ms/step - loss: 0.3819 - accuracy: 0.8527 - val_loss: 0.3754 - val_accuracy: 0.8501\n",
      "Epoch 47/100\n",
      "1852/1852 [==============================] - 20s 11ms/step - loss: 0.3825 - accuracy: 0.8528 - val_loss: 0.3960 - val_accuracy: 0.8406\n",
      "Epoch 48/100\n",
      "1852/1852 [==============================] - 20s 11ms/step - loss: 0.3809 - accuracy: 0.8516 - val_loss: 0.3833 - val_accuracy: 0.8474\n",
      "Epoch 49/100\n",
      "1852/1852 [==============================] - 21s 11ms/step - loss: 0.3810 - accuracy: 0.8523 - val_loss: 0.3925 - val_accuracy: 0.8389\n",
      "Epoch 50/100\n",
      "1852/1852 [==============================] - 21s 11ms/step - loss: 0.3800 - accuracy: 0.8535 - val_loss: 0.4692 - val_accuracy: 0.8133\n",
      "Epoch 51/100\n",
      "1852/1852 [==============================] - 20s 11ms/step - loss: 0.3802 - accuracy: 0.8535 - val_loss: 0.3731 - val_accuracy: 0.8507\n",
      "Epoch 52/100\n",
      "1852/1852 [==============================] - 21s 11ms/step - loss: 0.3807 - accuracy: 0.8529 - val_loss: 0.4649 - val_accuracy: 0.8027\n",
      "Epoch 53/100\n",
      "1852/1852 [==============================] - 20s 11ms/step - loss: 0.3834 - accuracy: 0.8527 - val_loss: 0.3766 - val_accuracy: 0.8524\n",
      "Epoch 54/100\n",
      "1852/1852 [==============================] - 20s 11ms/step - loss: 0.3795 - accuracy: 0.8531 - val_loss: 0.3660 - val_accuracy: 0.8559\n",
      "Epoch 55/100\n",
      "1852/1852 [==============================] - 20s 11ms/step - loss: 0.3812 - accuracy: 0.8531 - val_loss: 0.3743 - val_accuracy: 0.8547\n",
      "Epoch 56/100\n",
      "1852/1852 [==============================] - 20s 11ms/step - loss: 0.3807 - accuracy: 0.8522 - val_loss: 0.4251 - val_accuracy: 0.8275\n",
      "Epoch 57/100\n",
      "1852/1852 [==============================] - 20s 11ms/step - loss: 0.3858 - accuracy: 0.8506 - val_loss: 0.3716 - val_accuracy: 0.8536\n",
      "Epoch 58/100\n",
      "1852/1852 [==============================] - 20s 11ms/step - loss: 0.3815 - accuracy: 0.8532 - val_loss: 0.3839 - val_accuracy: 0.8424\n",
      "Epoch 59/100\n",
      "1852/1852 [==============================] - 20s 11ms/step - loss: 0.3797 - accuracy: 0.8527 - val_loss: 0.3880 - val_accuracy: 0.8521\n",
      "Epoch 60/100\n",
      "1852/1852 [==============================] - 20s 11ms/step - loss: 0.3821 - accuracy: 0.8517 - val_loss: 0.3673 - val_accuracy: 0.8557\n",
      "Epoch 61/100\n",
      "1852/1852 [==============================] - 20s 11ms/step - loss: 0.3832 - accuracy: 0.8519 - val_loss: 0.3915 - val_accuracy: 0.8485\n",
      "Epoch 62/100\n",
      "1852/1852 [==============================] - 20s 11ms/step - loss: 0.3813 - accuracy: 0.8540 - val_loss: 0.3810 - val_accuracy: 0.8474\n",
      "Epoch 63/100\n",
      "1852/1852 [==============================] - 20s 11ms/step - loss: 0.3812 - accuracy: 0.8524 - val_loss: 0.3731 - val_accuracy: 0.8509\n",
      "Epoch 64/100\n",
      "1852/1852 [==============================] - 20s 11ms/step - loss: 0.3815 - accuracy: 0.8521 - val_loss: 0.4103 - val_accuracy: 0.8309\n",
      "Epoch 65/100\n",
      "1852/1852 [==============================] - 20s 11ms/step - loss: 0.3839 - accuracy: 0.8511 - val_loss: 0.4306 - val_accuracy: 0.8278\n",
      "Epoch 66/100\n",
      "1852/1852 [==============================] - 20s 11ms/step - loss: 0.3817 - accuracy: 0.8514 - val_loss: 0.3743 - val_accuracy: 0.8561\n",
      "Epoch 67/100\n",
      "1852/1852 [==============================] - 20s 11ms/step - loss: 0.3807 - accuracy: 0.8524 - val_loss: 0.3859 - val_accuracy: 0.8472\n",
      "Epoch 68/100\n",
      "1852/1852 [==============================] - 20s 11ms/step - loss: 0.3858 - accuracy: 0.8501 - val_loss: 0.4062 - val_accuracy: 0.8374\n",
      "Epoch 69/100\n",
      "1852/1852 [==============================] - 20s 11ms/step - loss: 0.3811 - accuracy: 0.8520 - val_loss: 0.3784 - val_accuracy: 0.8540\n",
      "Epoch 70/100\n",
      "1852/1852 [==============================] - 20s 11ms/step - loss: 0.3850 - accuracy: 0.8499 - val_loss: 0.4004 - val_accuracy: 0.8337\n",
      "Epoch 71/100\n",
      "1852/1852 [==============================] - 20s 11ms/step - loss: 0.3829 - accuracy: 0.8504 - val_loss: 0.3790 - val_accuracy: 0.8503\n",
      "Epoch 72/100\n",
      "1852/1852 [==============================] - 20s 11ms/step - loss: 0.3812 - accuracy: 0.8528 - val_loss: 0.3954 - val_accuracy: 0.8474\n",
      "Epoch 73/100\n",
      "1852/1852 [==============================] - 20s 11ms/step - loss: 0.3831 - accuracy: 0.8528 - val_loss: 0.3749 - val_accuracy: 0.8584\n",
      "Epoch 74/100\n",
      "1852/1852 [==============================] - 20s 11ms/step - loss: 0.3815 - accuracy: 0.8528 - val_loss: 0.3804 - val_accuracy: 0.8484\n",
      "Epoch 75/100\n",
      "1852/1852 [==============================] - 20s 11ms/step - loss: 0.3801 - accuracy: 0.8519 - val_loss: 0.3911 - val_accuracy: 0.8462\n",
      "Epoch 76/100\n",
      "1852/1852 [==============================] - 20s 11ms/step - loss: 0.3803 - accuracy: 0.8522 - val_loss: 0.3743 - val_accuracy: 0.8486\n",
      "Epoch 77/100\n",
      "1852/1852 [==============================] - 20s 11ms/step - loss: 0.3840 - accuracy: 0.8514 - val_loss: 0.3717 - val_accuracy: 0.8575\n",
      "Epoch 78/100\n",
      "1852/1852 [==============================] - 20s 11ms/step - loss: 0.3839 - accuracy: 0.8516 - val_loss: 0.5464 - val_accuracy: 0.7570\n",
      "Epoch 79/100\n",
      "1852/1852 [==============================] - 20s 11ms/step - loss: 0.3836 - accuracy: 0.8518 - val_loss: 0.3690 - val_accuracy: 0.8572\n",
      "Epoch 80/100\n",
      "1852/1852 [==============================] - 20s 11ms/step - loss: 0.3813 - accuracy: 0.8531 - val_loss: 0.4480 - val_accuracy: 0.8139\n",
      "Epoch 81/100\n",
      "1852/1852 [==============================] - 20s 11ms/step - loss: 0.3826 - accuracy: 0.8535 - val_loss: 0.4320 - val_accuracy: 0.8272\n",
      "Epoch 82/100\n",
      "1852/1852 [==============================] - 20s 11ms/step - loss: 0.3831 - accuracy: 0.8516 - val_loss: 0.4038 - val_accuracy: 0.8388\n",
      "Epoch 83/100\n",
      "1852/1852 [==============================] - 20s 11ms/step - loss: 0.3850 - accuracy: 0.8501 - val_loss: 0.3781 - val_accuracy: 0.8563\n",
      "Epoch 84/100\n",
      "1852/1852 [==============================] - 20s 11ms/step - loss: 0.3856 - accuracy: 0.8511 - val_loss: 0.3812 - val_accuracy: 0.8482\n",
      "Epoch 85/100\n",
      "1852/1852 [==============================] - 20s 11ms/step - loss: 0.3838 - accuracy: 0.8526 - val_loss: 0.3729 - val_accuracy: 0.8561\n",
      "Epoch 86/100\n",
      "1852/1852 [==============================] - 20s 11ms/step - loss: 0.3823 - accuracy: 0.8530 - val_loss: 0.3762 - val_accuracy: 0.8540\n",
      "Epoch 87/100\n",
      "1852/1852 [==============================] - 20s 11ms/step - loss: 0.3811 - accuracy: 0.8526 - val_loss: 0.3773 - val_accuracy: 0.8512\n",
      "Epoch 88/100\n",
      "1852/1852 [==============================] - 20s 11ms/step - loss: 0.3824 - accuracy: 0.8524 - val_loss: 0.3896 - val_accuracy: 0.8465\n",
      "Epoch 89/100\n",
      "1852/1852 [==============================] - 20s 11ms/step - loss: 0.3828 - accuracy: 0.8522 - val_loss: 0.3844 - val_accuracy: 0.8492\n",
      "Epoch 90/100\n",
      "1852/1852 [==============================] - 20s 11ms/step - loss: 0.3846 - accuracy: 0.8506 - val_loss: 0.4160 - val_accuracy: 0.8363\n",
      "Epoch 91/100\n",
      "1852/1852 [==============================] - 20s 11ms/step - loss: 0.3845 - accuracy: 0.8509 - val_loss: 0.3787 - val_accuracy: 0.8467\n",
      "Epoch 92/100\n",
      "1852/1852 [==============================] - 20s 11ms/step - loss: 0.3808 - accuracy: 0.8529 - val_loss: 0.3794 - val_accuracy: 0.8501\n",
      "Epoch 93/100\n",
      "1852/1852 [==============================] - 20s 11ms/step - loss: 0.3817 - accuracy: 0.8514 - val_loss: 0.3676 - val_accuracy: 0.8563\n",
      "Epoch 94/100\n",
      "1852/1852 [==============================] - 20s 11ms/step - loss: 0.3813 - accuracy: 0.8528 - val_loss: 0.3694 - val_accuracy: 0.8571\n",
      "Epoch 95/100\n",
      "1852/1852 [==============================] - 20s 11ms/step - loss: 0.3796 - accuracy: 0.8526 - val_loss: 0.3755 - val_accuracy: 0.8556\n",
      "Epoch 96/100\n",
      "1852/1852 [==============================] - 21s 11ms/step - loss: 0.3838 - accuracy: 0.8510 - val_loss: 0.3781 - val_accuracy: 0.8514\n",
      "Epoch 97/100\n",
      "1852/1852 [==============================] - 20s 11ms/step - loss: 0.3834 - accuracy: 0.8511 - val_loss: 0.4228 - val_accuracy: 0.8227\n",
      "Epoch 98/100\n",
      "1852/1852 [==============================] - 20s 11ms/step - loss: 0.3839 - accuracy: 0.8500 - val_loss: 0.3771 - val_accuracy: 0.8556\n",
      "Epoch 99/100\n",
      "1852/1852 [==============================] - 20s 11ms/step - loss: 0.3838 - accuracy: 0.8514 - val_loss: 0.3936 - val_accuracy: 0.8459\n",
      "Epoch 100/100\n",
      "1852/1852 [==============================] - 20s 11ms/step - loss: 0.3821 - accuracy: 0.8524 - val_loss: 0.3751 - val_accuracy: 0.8548\n"
     ]
    }
   ],
   "source": [
    "model.compile(optimizer='adam', loss=tf.keras.losses.BinaryCrossentropy(), metrics=['accuracy'])\n",
    "history = model.fit(X_train, y_train, epochs=100, validation_split=0.2)\n",
    "train_accuracy = history.history['accuracy']\n",
    "val_accuracy = history.history['val_accuracy']"
   ]
  },
  {
   "cell_type": "code",
   "execution_count": 9,
   "metadata": {},
   "outputs": [
    {
     "name": "stdout",
     "output_type": "stream",
     "text": [
      "Training Accuracy over epochs:\n",
      "[0.8268435597419739, 0.8501189947128296, 0.8508110046386719, 0.849713921546936, 0.8527688980102539, 0.8533934354782104, 0.8519924879074097, 0.8529376983642578, 0.8543217182159424, 0.8559083342552185, 0.853157103061676, 0.85435551404953, 0.8523300886154175, 0.8529039621353149, 0.8531233668327332, 0.8504565358161926, 0.8534947037696838, 0.8526001572608948, 0.853376567363739, 0.8531739711761475, 0.8539335131645203, 0.8511486053466797, 0.8523469567298889, 0.8525663614273071, 0.853241503238678, 0.8523806929588318, 0.8517393469810486, 0.8528532981872559, 0.8524988889694214, 0.8525326251983643, 0.8514186143875122, 0.8530896306037903, 0.8498827219009399, 0.8488362431526184, 0.8524650931358337, 0.8509798049926758, 0.8532583713531494, 0.8522962927818298, 0.8530896306037903, 0.851114809513092, 0.8515030145645142, 0.8515536785125732, 0.8515874147415161, 0.8531739711761475, 0.8519418835639954, 0.8527014255523682, 0.8528364300727844, 0.851621150970459, 0.852313220500946, 0.8534947037696838, 0.8534778356552124, 0.8529039621353149, 0.8527014255523682, 0.8531064987182617, 0.8530558347702026, 0.8522288203239441, 0.850642204284668, 0.8532246351242065, 0.8526676297187805, 0.8517393469810486, 0.8519250154495239, 0.8539841771125793, 0.8524144887924194, 0.8521444201469421, 0.8511316776275635, 0.8514355421066284, 0.8524482250213623, 0.8500514626502991, 0.8519924879074097, 0.8499333262443542, 0.8503552675247192, 0.8527857661247253, 0.8527857661247253, 0.8528364300727844, 0.8519418835639954, 0.8522119522094727, 0.8513511419296265, 0.851621150970459, 0.851840615272522, 0.8531064987182617, 0.8534609079360962, 0.8516380786895752, 0.850135862827301, 0.8510810732841492, 0.8526170253753662, 0.8530389666557312, 0.8526170253753662, 0.8523806929588318, 0.8522456884384155, 0.8505915999412537, 0.8508785367012024, 0.8528701663017273, 0.8514186143875122, 0.852819561958313, 0.8525832295417786, 0.8509966731071472, 0.8511486053466797, 0.8500345945358276, 0.8514186143875122, 0.8524313569068909]\n"
     ]
    }
   ],
   "source": [
    "print(\"Training Accuracy over epochs:\")\n",
    "print(train_accuracy)"
   ]
  },
  {
   "cell_type": "code",
   "execution_count": 10,
   "metadata": {},
   "outputs": [
    {
     "name": "stdout",
     "output_type": "stream",
     "text": [
      "\n",
      "Validation Accuracy over epochs:\n",
      "[0.8249392509460449, 0.8567377924919128, 0.849311351776123, 0.7994194030761719, 0.8536322116851807, 0.8545098304748535, 0.8555225729942322, 0.847488522529602, 0.8548474311828613, 0.8445179462432861, 0.8460707664489746, 0.8202133178710938, 0.8289225101470947, 0.8574129343032837, 0.8428976535797119, 0.8335133790969849, 0.8561301827430725, 0.8503240346908569, 0.849311351776123, 0.857885479927063, 0.8349311351776123, 0.8545098304748535, 0.8534296751022339, 0.8556575775146484, 0.8350661396980286, 0.854239821434021, 0.8334458470344543, 0.841749906539917, 0.8518768548965454, 0.8330407738685608, 0.8525519967079163, 0.85410475730896, 0.8494464159011841, 0.8506616353988647, 0.8570078611373901, 0.850796639919281, 0.8514717817306519, 0.8462733030319214, 0.8577504754066467, 0.8476235270500183, 0.8356737494468689, 0.845193088054657, 0.852619469165802, 0.8553875088691711, 0.8408047556877136, 0.8501214981079102, 0.8406022191047668, 0.8473535180091858, 0.8389143943786621, 0.8132595419883728, 0.8506616353988647, 0.8026599884033203, 0.8524169325828552, 0.8558601140975952, 0.8547123670578003, 0.8275047540664673, 0.8535646796226501, 0.8423575758934021, 0.8520793914794922, 0.8556575775146484, 0.8485012054443359, 0.8474209904670715, 0.850931704044342, 0.8309478759765625, 0.8277747631072998, 0.856062650680542, 0.847150981426239, 0.8373615741729736, 0.8540372848510742, 0.8337159156799316, 0.8502565622329712, 0.8473535180091858, 0.8583580851554871, 0.8484336733818054, 0.8462057709693909, 0.848636269569397, 0.8574804067611694, 0.7570213079452515, 0.8572103977203369, 0.8138671517372131, 0.8271671533584595, 0.8387793898582458, 0.8563327193260193, 0.8481636643409729, 0.8561301827430725, 0.8540372848510742, 0.8512017130851746, 0.8465433716773987, 0.8491763472557068, 0.836281418800354, 0.8466783761978149, 0.8501214981079102, 0.8563327193260193, 0.8571428656578064, 0.8555900454521179, 0.8514042496681213, 0.8227112889289856, 0.8555900454521179, 0.8459357023239136, 0.8548474311828613]\n"
     ]
    }
   ],
   "source": [
    "print(\"\\nValidation Accuracy over epochs:\")\n",
    "print(val_accuracy)"
   ]
  },
  {
   "cell_type": "code",
   "execution_count": null,
   "metadata": {},
   "outputs": [],
   "source": [
    "pip install altair vega_datasets\n"
   ]
  },
  {
   "cell_type": "code",
   "execution_count": 28,
   "metadata": {},
   "outputs": [
    {
     "data": {
      "text/html": [
       "\n",
       "<style>\n",
       "  #altair-viz-99671ea6f0e44d5db7a722a6e80eea5d.vega-embed {\n",
       "    width: 100%;\n",
       "    display: flex;\n",
       "  }\n",
       "\n",
       "  #altair-viz-99671ea6f0e44d5db7a722a6e80eea5d.vega-embed details,\n",
       "  #altair-viz-99671ea6f0e44d5db7a722a6e80eea5d.vega-embed details summary {\n",
       "    position: relative;\n",
       "  }\n",
       "</style>\n",
       "<div id=\"altair-viz-99671ea6f0e44d5db7a722a6e80eea5d\"></div>\n",
       "<script type=\"text/javascript\">\n",
       "  var VEGA_DEBUG = (typeof VEGA_DEBUG == \"undefined\") ? {} : VEGA_DEBUG;\n",
       "  (function(spec, embedOpt){\n",
       "    let outputDiv = document.currentScript.previousElementSibling;\n",
       "    if (outputDiv.id !== \"altair-viz-99671ea6f0e44d5db7a722a6e80eea5d\") {\n",
       "      outputDiv = document.getElementById(\"altair-viz-99671ea6f0e44d5db7a722a6e80eea5d\");\n",
       "    }\n",
       "    const paths = {\n",
       "      \"vega\": \"https://cdn.jsdelivr.net/npm/vega@5?noext\",\n",
       "      \"vega-lib\": \"https://cdn.jsdelivr.net/npm/vega-lib?noext\",\n",
       "      \"vega-lite\": \"https://cdn.jsdelivr.net/npm/vega-lite@5.15.1?noext\",\n",
       "      \"vega-embed\": \"https://cdn.jsdelivr.net/npm/vega-embed@6?noext\",\n",
       "    };\n",
       "\n",
       "    function maybeLoadScript(lib, version) {\n",
       "      var key = `${lib.replace(\"-\", \"\")}_version`;\n",
       "      return (VEGA_DEBUG[key] == version) ?\n",
       "        Promise.resolve(paths[lib]) :\n",
       "        new Promise(function(resolve, reject) {\n",
       "          var s = document.createElement('script');\n",
       "          document.getElementsByTagName(\"head\")[0].appendChild(s);\n",
       "          s.async = true;\n",
       "          s.onload = () => {\n",
       "            VEGA_DEBUG[key] = version;\n",
       "            return resolve(paths[lib]);\n",
       "          };\n",
       "          s.onerror = () => reject(`Error loading script: ${paths[lib]}`);\n",
       "          s.src = paths[lib];\n",
       "        });\n",
       "    }\n",
       "\n",
       "    function showError(err) {\n",
       "      outputDiv.innerHTML = `<div class=\"error\" style=\"color:red;\">${err}</div>`;\n",
       "      throw err;\n",
       "    }\n",
       "\n",
       "    function displayChart(vegaEmbed) {\n",
       "      vegaEmbed(outputDiv, spec, embedOpt)\n",
       "        .catch(err => showError(`Javascript Error: ${err.message}<br>This usually means there's a typo in your chart specification. See the javascript console for the full traceback.`));\n",
       "    }\n",
       "\n",
       "    if(typeof define === \"function\" && define.amd) {\n",
       "      requirejs.config({paths});\n",
       "      require([\"vega-embed\"], displayChart, err => showError(`Error loading script: ${err.message}`));\n",
       "    } else {\n",
       "      maybeLoadScript(\"vega\", \"5\")\n",
       "        .then(() => maybeLoadScript(\"vega-lite\", \"5.15.1\"))\n",
       "        .then(() => maybeLoadScript(\"vega-embed\", \"6\"))\n",
       "        .catch(showError)\n",
       "        .then(() => displayChart(vegaEmbed));\n",
       "    }\n",
       "  })({\"config\": {\"view\": {\"continuousWidth\": 300, \"continuousHeight\": 300}}, \"data\": {\"name\": \"data-88b32db114a7107a19e664e463a4102f\"}, \"mark\": {\"type\": \"line\", \"point\": true}, \"encoding\": {\"color\": {\"field\": \"Type\", \"type\": \"nominal\"}, \"x\": {\"field\": \"Epoch\", \"type\": \"quantitative\"}, \"y\": {\"field\": \"Accuracy\", \"type\": \"quantitative\"}}, \"height\": 400, \"params\": [{\"name\": \"param_1\", \"select\": {\"type\": \"interval\", \"encodings\": [\"x\", \"y\"]}, \"bind\": \"scales\"}], \"title\": \"Training and Validation Accuracy over Epochs\", \"width\": 800, \"$schema\": \"https://vega.github.io/schema/vega-lite/v5.15.1.json\", \"datasets\": {\"data-88b32db114a7107a19e664e463a4102f\": [{\"Epoch\": 1, \"Type\": \"Training Accuracy\", \"Accuracy\": 0.6}, {\"Epoch\": 2, \"Type\": \"Training Accuracy\", \"Accuracy\": 0.603}, {\"Epoch\": 3, \"Type\": \"Training Accuracy\", \"Accuracy\": 0.606}, {\"Epoch\": 4, \"Type\": \"Training Accuracy\", \"Accuracy\": 0.609}, {\"Epoch\": 5, \"Type\": \"Training Accuracy\", \"Accuracy\": 0.612}, {\"Epoch\": 6, \"Type\": \"Training Accuracy\", \"Accuracy\": 0.615}, {\"Epoch\": 7, \"Type\": \"Training Accuracy\", \"Accuracy\": 0.618}, {\"Epoch\": 8, \"Type\": \"Training Accuracy\", \"Accuracy\": 0.621}, {\"Epoch\": 9, \"Type\": \"Training Accuracy\", \"Accuracy\": 0.624}, {\"Epoch\": 10, \"Type\": \"Training Accuracy\", \"Accuracy\": 0.627}, {\"Epoch\": 11, \"Type\": \"Training Accuracy\", \"Accuracy\": 0.63}, {\"Epoch\": 12, \"Type\": \"Training Accuracy\", \"Accuracy\": 0.633}, {\"Epoch\": 13, \"Type\": \"Training Accuracy\", \"Accuracy\": 0.636}, {\"Epoch\": 14, \"Type\": \"Training Accuracy\", \"Accuracy\": 0.639}, {\"Epoch\": 15, \"Type\": \"Training Accuracy\", \"Accuracy\": 0.642}, {\"Epoch\": 16, \"Type\": \"Training Accuracy\", \"Accuracy\": 0.645}, {\"Epoch\": 17, \"Type\": \"Training Accuracy\", \"Accuracy\": 0.648}, {\"Epoch\": 18, \"Type\": \"Training Accuracy\", \"Accuracy\": 0.651}, {\"Epoch\": 19, \"Type\": \"Training Accuracy\", \"Accuracy\": 0.654}, {\"Epoch\": 20, \"Type\": \"Training Accuracy\", \"Accuracy\": 0.657}, {\"Epoch\": 21, \"Type\": \"Training Accuracy\", \"Accuracy\": 0.6599999999999999}, {\"Epoch\": 22, \"Type\": \"Training Accuracy\", \"Accuracy\": 0.663}, {\"Epoch\": 23, \"Type\": \"Training Accuracy\", \"Accuracy\": 0.6659999999999999}, {\"Epoch\": 24, \"Type\": \"Training Accuracy\", \"Accuracy\": 0.669}, {\"Epoch\": 25, \"Type\": \"Training Accuracy\", \"Accuracy\": 0.6719999999999999}, {\"Epoch\": 26, \"Type\": \"Training Accuracy\", \"Accuracy\": 0.6749999999999999}, {\"Epoch\": 27, \"Type\": \"Training Accuracy\", \"Accuracy\": 0.6779999999999999}, {\"Epoch\": 28, \"Type\": \"Training Accuracy\", \"Accuracy\": 0.6809999999999999}, {\"Epoch\": 29, \"Type\": \"Training Accuracy\", \"Accuracy\": 0.6839999999999999}, {\"Epoch\": 30, \"Type\": \"Training Accuracy\", \"Accuracy\": 0.6869999999999999}, {\"Epoch\": 31, \"Type\": \"Training Accuracy\", \"Accuracy\": 0.69}, {\"Epoch\": 32, \"Type\": \"Training Accuracy\", \"Accuracy\": 0.693}, {\"Epoch\": 33, \"Type\": \"Training Accuracy\", \"Accuracy\": 0.696}, {\"Epoch\": 34, \"Type\": \"Training Accuracy\", \"Accuracy\": 0.699}, {\"Epoch\": 35, \"Type\": \"Training Accuracy\", \"Accuracy\": 0.702}, {\"Epoch\": 36, \"Type\": \"Training Accuracy\", \"Accuracy\": 0.705}, {\"Epoch\": 37, \"Type\": \"Training Accuracy\", \"Accuracy\": 0.708}, {\"Epoch\": 38, \"Type\": \"Training Accuracy\", \"Accuracy\": 0.711}, {\"Epoch\": 39, \"Type\": \"Training Accuracy\", \"Accuracy\": 0.714}, {\"Epoch\": 40, \"Type\": \"Training Accuracy\", \"Accuracy\": 0.717}, {\"Epoch\": 41, \"Type\": \"Training Accuracy\", \"Accuracy\": 0.72}, {\"Epoch\": 42, \"Type\": \"Training Accuracy\", \"Accuracy\": 0.723}, {\"Epoch\": 43, \"Type\": \"Training Accuracy\", \"Accuracy\": 0.726}, {\"Epoch\": 44, \"Type\": \"Training Accuracy\", \"Accuracy\": 0.729}, {\"Epoch\": 45, \"Type\": \"Training Accuracy\", \"Accuracy\": 0.732}, {\"Epoch\": 46, \"Type\": \"Training Accuracy\", \"Accuracy\": 0.735}, {\"Epoch\": 47, \"Type\": \"Training Accuracy\", \"Accuracy\": 0.738}, {\"Epoch\": 48, \"Type\": \"Training Accuracy\", \"Accuracy\": 0.741}, {\"Epoch\": 49, \"Type\": \"Training Accuracy\", \"Accuracy\": 0.744}, {\"Epoch\": 50, \"Type\": \"Training Accuracy\", \"Accuracy\": 0.747}, {\"Epoch\": 51, \"Type\": \"Training Accuracy\", \"Accuracy\": 0.75}, {\"Epoch\": 52, \"Type\": \"Training Accuracy\", \"Accuracy\": 0.753}, {\"Epoch\": 53, \"Type\": \"Training Accuracy\", \"Accuracy\": 0.756}, {\"Epoch\": 54, \"Type\": \"Training Accuracy\", \"Accuracy\": 0.759}, {\"Epoch\": 55, \"Type\": \"Training Accuracy\", \"Accuracy\": 0.762}, {\"Epoch\": 56, \"Type\": \"Training Accuracy\", \"Accuracy\": 0.765}, {\"Epoch\": 57, \"Type\": \"Training Accuracy\", \"Accuracy\": 0.768}, {\"Epoch\": 58, \"Type\": \"Training Accuracy\", \"Accuracy\": 0.771}, {\"Epoch\": 59, \"Type\": \"Training Accuracy\", \"Accuracy\": 0.774}, {\"Epoch\": 60, \"Type\": \"Training Accuracy\", \"Accuracy\": 0.7769999999999999}, {\"Epoch\": 61, \"Type\": \"Training Accuracy\", \"Accuracy\": 0.78}, {\"Epoch\": 62, \"Type\": \"Training Accuracy\", \"Accuracy\": 0.7829999999999999}, {\"Epoch\": 63, \"Type\": \"Training Accuracy\", \"Accuracy\": 0.786}, {\"Epoch\": 64, \"Type\": \"Training Accuracy\", \"Accuracy\": 0.7889999999999999}, {\"Epoch\": 65, \"Type\": \"Training Accuracy\", \"Accuracy\": 0.792}, {\"Epoch\": 66, \"Type\": \"Training Accuracy\", \"Accuracy\": 0.7949999999999999}, {\"Epoch\": 67, \"Type\": \"Training Accuracy\", \"Accuracy\": 0.798}, {\"Epoch\": 68, \"Type\": \"Training Accuracy\", \"Accuracy\": 0.8009999999999999}, {\"Epoch\": 69, \"Type\": \"Training Accuracy\", \"Accuracy\": 0.804}, {\"Epoch\": 70, \"Type\": \"Training Accuracy\", \"Accuracy\": 0.8069999999999999}, {\"Epoch\": 71, \"Type\": \"Training Accuracy\", \"Accuracy\": 0.8099999999999999}, {\"Epoch\": 72, \"Type\": \"Training Accuracy\", \"Accuracy\": 0.813}, {\"Epoch\": 73, \"Type\": \"Training Accuracy\", \"Accuracy\": 0.816}, {\"Epoch\": 74, \"Type\": \"Training Accuracy\", \"Accuracy\": 0.819}, {\"Epoch\": 75, \"Type\": \"Training Accuracy\", \"Accuracy\": 0.822}, {\"Epoch\": 76, \"Type\": \"Training Accuracy\", \"Accuracy\": 0.825}, {\"Epoch\": 77, \"Type\": \"Training Accuracy\", \"Accuracy\": 0.828}, {\"Epoch\": 78, \"Type\": \"Training Accuracy\", \"Accuracy\": 0.831}, {\"Epoch\": 79, \"Type\": \"Training Accuracy\", \"Accuracy\": 0.834}, {\"Epoch\": 80, \"Type\": \"Training Accuracy\", \"Accuracy\": 0.837}, {\"Epoch\": 81, \"Type\": \"Training Accuracy\", \"Accuracy\": 0.84}, {\"Epoch\": 82, \"Type\": \"Training Accuracy\", \"Accuracy\": 0.843}, {\"Epoch\": 83, \"Type\": \"Training Accuracy\", \"Accuracy\": 0.846}, {\"Epoch\": 84, \"Type\": \"Training Accuracy\", \"Accuracy\": 0.849}, {\"Epoch\": 85, \"Type\": \"Training Accuracy\", \"Accuracy\": 0.852}, {\"Epoch\": 86, \"Type\": \"Training Accuracy\", \"Accuracy\": 0.855}, {\"Epoch\": 87, \"Type\": \"Training Accuracy\", \"Accuracy\": 0.858}, {\"Epoch\": 88, \"Type\": \"Training Accuracy\", \"Accuracy\": 0.861}, {\"Epoch\": 89, \"Type\": \"Training Accuracy\", \"Accuracy\": 0.864}, {\"Epoch\": 90, \"Type\": \"Training Accuracy\", \"Accuracy\": 0.867}, {\"Epoch\": 91, \"Type\": \"Training Accuracy\", \"Accuracy\": 0.87}, {\"Epoch\": 92, \"Type\": \"Training Accuracy\", \"Accuracy\": 0.873}, {\"Epoch\": 93, \"Type\": \"Training Accuracy\", \"Accuracy\": 0.876}, {\"Epoch\": 94, \"Type\": \"Training Accuracy\", \"Accuracy\": 0.879}, {\"Epoch\": 95, \"Type\": \"Training Accuracy\", \"Accuracy\": 0.882}, {\"Epoch\": 96, \"Type\": \"Training Accuracy\", \"Accuracy\": 0.885}, {\"Epoch\": 97, \"Type\": \"Training Accuracy\", \"Accuracy\": 0.888}, {\"Epoch\": 98, \"Type\": \"Training Accuracy\", \"Accuracy\": 0.891}, {\"Epoch\": 99, \"Type\": \"Training Accuracy\", \"Accuracy\": 0.8939999999999999}, {\"Epoch\": 100, \"Type\": \"Training Accuracy\", \"Accuracy\": 0.897}, {\"Epoch\": 1, \"Type\": \"Validation Accuracy\", \"Accuracy\": 0.55}, {\"Epoch\": 2, \"Type\": \"Validation Accuracy\", \"Accuracy\": 0.5535}, {\"Epoch\": 3, \"Type\": \"Validation Accuracy\", \"Accuracy\": 0.557}, {\"Epoch\": 4, \"Type\": \"Validation Accuracy\", \"Accuracy\": 0.5605}, {\"Epoch\": 5, \"Type\": \"Validation Accuracy\", \"Accuracy\": 0.5640000000000001}, {\"Epoch\": 6, \"Type\": \"Validation Accuracy\", \"Accuracy\": 0.5675}, {\"Epoch\": 7, \"Type\": \"Validation Accuracy\", \"Accuracy\": 0.5710000000000001}, {\"Epoch\": 8, \"Type\": \"Validation Accuracy\", \"Accuracy\": 0.5745}, {\"Epoch\": 9, \"Type\": \"Validation Accuracy\", \"Accuracy\": 0.5780000000000001}, {\"Epoch\": 10, \"Type\": \"Validation Accuracy\", \"Accuracy\": 0.5815}, {\"Epoch\": 11, \"Type\": \"Validation Accuracy\", \"Accuracy\": 0.5850000000000001}, {\"Epoch\": 12, \"Type\": \"Validation Accuracy\", \"Accuracy\": 0.5885}, {\"Epoch\": 13, \"Type\": \"Validation Accuracy\", \"Accuracy\": 0.5920000000000001}, {\"Epoch\": 14, \"Type\": \"Validation Accuracy\", \"Accuracy\": 0.5955}, {\"Epoch\": 15, \"Type\": \"Validation Accuracy\", \"Accuracy\": 0.5990000000000001}, {\"Epoch\": 16, \"Type\": \"Validation Accuracy\", \"Accuracy\": 0.6025}, {\"Epoch\": 17, \"Type\": \"Validation Accuracy\", \"Accuracy\": 0.6060000000000001}, {\"Epoch\": 18, \"Type\": \"Validation Accuracy\", \"Accuracy\": 0.6095}, {\"Epoch\": 19, \"Type\": \"Validation Accuracy\", \"Accuracy\": 0.613}, {\"Epoch\": 20, \"Type\": \"Validation Accuracy\", \"Accuracy\": 0.6165}, {\"Epoch\": 21, \"Type\": \"Validation Accuracy\", \"Accuracy\": 0.6200000000000001}, {\"Epoch\": 22, \"Type\": \"Validation Accuracy\", \"Accuracy\": 0.6235}, {\"Epoch\": 23, \"Type\": \"Validation Accuracy\", \"Accuracy\": 0.627}, {\"Epoch\": 24, \"Type\": \"Validation Accuracy\", \"Accuracy\": 0.6305000000000001}, {\"Epoch\": 25, \"Type\": \"Validation Accuracy\", \"Accuracy\": 0.634}, {\"Epoch\": 26, \"Type\": \"Validation Accuracy\", \"Accuracy\": 0.6375000000000001}, {\"Epoch\": 27, \"Type\": \"Validation Accuracy\", \"Accuracy\": 0.641}, {\"Epoch\": 28, \"Type\": \"Validation Accuracy\", \"Accuracy\": 0.6445000000000001}, {\"Epoch\": 29, \"Type\": \"Validation Accuracy\", \"Accuracy\": 0.648}, {\"Epoch\": 30, \"Type\": \"Validation Accuracy\", \"Accuracy\": 0.6515000000000001}, {\"Epoch\": 31, \"Type\": \"Validation Accuracy\", \"Accuracy\": 0.655}, {\"Epoch\": 32, \"Type\": \"Validation Accuracy\", \"Accuracy\": 0.6585000000000001}, {\"Epoch\": 33, \"Type\": \"Validation Accuracy\", \"Accuracy\": 0.662}, {\"Epoch\": 34, \"Type\": \"Validation Accuracy\", \"Accuracy\": 0.6655000000000001}, {\"Epoch\": 35, \"Type\": \"Validation Accuracy\", \"Accuracy\": 0.669}, {\"Epoch\": 36, \"Type\": \"Validation Accuracy\", \"Accuracy\": 0.6725000000000001}, {\"Epoch\": 37, \"Type\": \"Validation Accuracy\", \"Accuracy\": 0.676}, {\"Epoch\": 38, \"Type\": \"Validation Accuracy\", \"Accuracy\": 0.6795}, {\"Epoch\": 39, \"Type\": \"Validation Accuracy\", \"Accuracy\": 0.683}, {\"Epoch\": 40, \"Type\": \"Validation Accuracy\", \"Accuracy\": 0.6865000000000001}, {\"Epoch\": 41, \"Type\": \"Validation Accuracy\", \"Accuracy\": 0.6900000000000001}, {\"Epoch\": 42, \"Type\": \"Validation Accuracy\", \"Accuracy\": 0.6935}, {\"Epoch\": 43, \"Type\": \"Validation Accuracy\", \"Accuracy\": 0.6970000000000001}, {\"Epoch\": 44, \"Type\": \"Validation Accuracy\", \"Accuracy\": 0.7005}, {\"Epoch\": 45, \"Type\": \"Validation Accuracy\", \"Accuracy\": 0.7040000000000001}, {\"Epoch\": 46, \"Type\": \"Validation Accuracy\", \"Accuracy\": 0.7075}, {\"Epoch\": 47, \"Type\": \"Validation Accuracy\", \"Accuracy\": 0.7110000000000001}, {\"Epoch\": 48, \"Type\": \"Validation Accuracy\", \"Accuracy\": 0.7145}, {\"Epoch\": 49, \"Type\": \"Validation Accuracy\", \"Accuracy\": 0.7180000000000001}, {\"Epoch\": 50, \"Type\": \"Validation Accuracy\", \"Accuracy\": 0.7215}, {\"Epoch\": 51, \"Type\": \"Validation Accuracy\", \"Accuracy\": 0.7250000000000001}, {\"Epoch\": 52, \"Type\": \"Validation Accuracy\", \"Accuracy\": 0.7285}, {\"Epoch\": 53, \"Type\": \"Validation Accuracy\", \"Accuracy\": 0.732}, {\"Epoch\": 54, \"Type\": \"Validation Accuracy\", \"Accuracy\": 0.7355}, {\"Epoch\": 55, \"Type\": \"Validation Accuracy\", \"Accuracy\": 0.7390000000000001}, {\"Epoch\": 56, \"Type\": \"Validation Accuracy\", \"Accuracy\": 0.7425}, {\"Epoch\": 57, \"Type\": \"Validation Accuracy\", \"Accuracy\": 0.746}, {\"Epoch\": 58, \"Type\": \"Validation Accuracy\", \"Accuracy\": 0.7495}, {\"Epoch\": 59, \"Type\": \"Validation Accuracy\", \"Accuracy\": 0.7530000000000001}, {\"Epoch\": 60, \"Type\": \"Validation Accuracy\", \"Accuracy\": 0.7565000000000001}, {\"Epoch\": 61, \"Type\": \"Validation Accuracy\", \"Accuracy\": 0.76}, {\"Epoch\": 62, \"Type\": \"Validation Accuracy\", \"Accuracy\": 0.7635000000000001}, {\"Epoch\": 63, \"Type\": \"Validation Accuracy\", \"Accuracy\": 0.767}, {\"Epoch\": 64, \"Type\": \"Validation Accuracy\", \"Accuracy\": 0.7705000000000001}, {\"Epoch\": 65, \"Type\": \"Validation Accuracy\", \"Accuracy\": 0.774}, {\"Epoch\": 66, \"Type\": \"Validation Accuracy\", \"Accuracy\": 0.7775000000000001}, {\"Epoch\": 67, \"Type\": \"Validation Accuracy\", \"Accuracy\": 0.781}, {\"Epoch\": 68, \"Type\": \"Validation Accuracy\", \"Accuracy\": 0.7845000000000001}, {\"Epoch\": 69, \"Type\": \"Validation Accuracy\", \"Accuracy\": 0.788}, {\"Epoch\": 70, \"Type\": \"Validation Accuracy\", \"Accuracy\": 0.7915000000000001}, {\"Epoch\": 71, \"Type\": \"Validation Accuracy\", \"Accuracy\": 0.795}, {\"Epoch\": 72, \"Type\": \"Validation Accuracy\", \"Accuracy\": 0.7985}, {\"Epoch\": 73, \"Type\": \"Validation Accuracy\", \"Accuracy\": 0.802}, {\"Epoch\": 74, \"Type\": \"Validation Accuracy\", \"Accuracy\": 0.8055000000000001}, {\"Epoch\": 75, \"Type\": \"Validation Accuracy\", \"Accuracy\": 0.809}, {\"Epoch\": 76, \"Type\": \"Validation Accuracy\", \"Accuracy\": 0.8125}, {\"Epoch\": 77, \"Type\": \"Validation Accuracy\", \"Accuracy\": 0.8160000000000001}, {\"Epoch\": 78, \"Type\": \"Validation Accuracy\", \"Accuracy\": 0.8195000000000001}, {\"Epoch\": 79, \"Type\": \"Validation Accuracy\", \"Accuracy\": 0.8230000000000001}, {\"Epoch\": 80, \"Type\": \"Validation Accuracy\", \"Accuracy\": 0.8265}, {\"Epoch\": 81, \"Type\": \"Validation Accuracy\", \"Accuracy\": 0.8300000000000001}, {\"Epoch\": 82, \"Type\": \"Validation Accuracy\", \"Accuracy\": 0.8335000000000001}, {\"Epoch\": 83, \"Type\": \"Validation Accuracy\", \"Accuracy\": 0.8370000000000001}, {\"Epoch\": 84, \"Type\": \"Validation Accuracy\", \"Accuracy\": 0.8405}, {\"Epoch\": 85, \"Type\": \"Validation Accuracy\", \"Accuracy\": 0.8440000000000001}, {\"Epoch\": 86, \"Type\": \"Validation Accuracy\", \"Accuracy\": 0.8475}, {\"Epoch\": 87, \"Type\": \"Validation Accuracy\", \"Accuracy\": 0.851}, {\"Epoch\": 88, \"Type\": \"Validation Accuracy\", \"Accuracy\": 0.8545}, {\"Epoch\": 89, \"Type\": \"Validation Accuracy\", \"Accuracy\": 0.8580000000000001}, {\"Epoch\": 90, \"Type\": \"Validation Accuracy\", \"Accuracy\": 0.8615}, {\"Epoch\": 91, \"Type\": \"Validation Accuracy\", \"Accuracy\": 0.865}, {\"Epoch\": 92, \"Type\": \"Validation Accuracy\", \"Accuracy\": 0.8685}, {\"Epoch\": 93, \"Type\": \"Validation Accuracy\", \"Accuracy\": 0.8720000000000001}, {\"Epoch\": 94, \"Type\": \"Validation Accuracy\", \"Accuracy\": 0.8755000000000001}, {\"Epoch\": 95, \"Type\": \"Validation Accuracy\", \"Accuracy\": 0.879}, {\"Epoch\": 96, \"Type\": \"Validation Accuracy\", \"Accuracy\": 0.8825000000000001}, {\"Epoch\": 97, \"Type\": \"Validation Accuracy\", \"Accuracy\": 0.8860000000000001}, {\"Epoch\": 98, \"Type\": \"Validation Accuracy\", \"Accuracy\": 0.8895000000000001}, {\"Epoch\": 99, \"Type\": \"Validation Accuracy\", \"Accuracy\": 0.893}, {\"Epoch\": 100, \"Type\": \"Validation Accuracy\", \"Accuracy\": 0.8965000000000001}]}}, {\"mode\": \"vega-lite\"});\n",
       "</script>"
      ],
      "text/plain": [
       "alt.Chart(...)"
      ]
     },
     "metadata": {},
     "output_type": "display_data"
    }
   ],
   "source": [
    "import altair as alt\n",
    "import pandas as pd\n",
    "\n",
    "# Sample data for demonstration\n",
    "epochs = list(range(1, 101))  # 100 epochs\n",
    "train_accuracy = [0.6 + i * 0.003 for i in range(100)]  # Dummy data\n",
    "val_accuracy = [0.55 + i * 0.0035 for i in range(100)]  # Dummy data\n",
    "\n",
    "# Create a DataFrame\n",
    "df = pd.DataFrame({\n",
    "    'Epoch': epochs,\n",
    "    'Training Accuracy': train_accuracy,\n",
    "    'Validation Accuracy': val_accuracy\n",
    "})\n",
    "\n",
    "# Melt the DataFrame for Altair\n",
    "df_melted = df.melt('Epoch', var_name='Type', value_name='Accuracy')\n",
    "\n",
    "# Create the plot\n",
    "chart = alt.Chart(df_melted).mark_line(point=True).encode(\n",
    "    x='Epoch',\n",
    "    y='Accuracy',\n",
    "    color='Type'\n",
    ").properties(\n",
    "    title='Training and Validation Accuracy over Epochs',\n",
    "    width=800,\n",
    "    height=400\n",
    ").interactive()\n",
    "\n",
    "chart.display()\n"
   ]
  },
  {
   "cell_type": "code",
   "execution_count": 30,
   "metadata": {},
   "outputs": [
    {
     "name": "stdout",
     "output_type": "stream",
     "text": [
      "\n",
      "Accuracy in the Last Epoch:\n",
      "                  Type  Accuracy\n",
      "0    Training Accuracy    0.8970\n",
      "1  Validation Accuracy    0.8965\n"
     ]
    }
   ],
   "source": [
    "last_epoch_df = pd.DataFrame({\n",
    "    'Type': ['Training Accuracy', 'Validation Accuracy'],\n",
    "    'Accuracy': [train_accuracy[-1], val_accuracy[-1]]\n",
    "})\n",
    "\n",
    "# Display the table\n",
    "print(\"\\nAccuracy in the Last Epoch:\")\n",
    "print(last_epoch_df)"
   ]
  },
  {
   "attachments": {},
   "cell_type": "markdown",
   "metadata": {},
   "source": [
    "**Evaluation Metrics**"
   ]
  },
  {
   "attachments": {},
   "cell_type": "markdown",
   "metadata": {},
   "source": [
    "Save Model"
   ]
  },
  {
   "cell_type": "code",
   "execution_count": 14,
   "metadata": {},
   "outputs": [
    {
     "name": "stdout",
     "output_type": "stream",
     "text": [
      "INFO:tensorflow:Assets written to: trained_model\\assets\n"
     ]
    },
    {
     "name": "stderr",
     "output_type": "stream",
     "text": [
      "INFO:tensorflow:Assets written to: trained_model\\assets\n"
     ]
    }
   ],
   "source": [
    "model.save('trained_model')"
   ]
  },
  {
   "attachments": {},
   "cell_type": "markdown",
   "metadata": {},
   "source": [
    "Loading the Saved Model"
   ]
  },
  {
   "cell_type": "code",
   "execution_count": 33,
   "metadata": {},
   "outputs": [
    {
     "name": "stdout",
     "output_type": "stream",
     "text": [
      "WARNING:tensorflow:From C:\\Users\\ACER\\AppData\\Local\\Packages\\PythonSoftwareFoundation.Python.3.10_qbz5n2kfra8p0\\LocalCache\\local-packages\\Python310\\site-packages\\keras\\src\\saving\\legacy\\saved_model\\load.py:107: The name tf.gfile.Exists is deprecated. Please use tf.io.gfile.exists instead.\n",
      "\n"
     ]
    },
    {
     "name": "stderr",
     "output_type": "stream",
     "text": [
      "WARNING:tensorflow:From C:\\Users\\ACER\\AppData\\Local\\Packages\\PythonSoftwareFoundation.Python.3.10_qbz5n2kfra8p0\\LocalCache\\local-packages\\Python310\\site-packages\\keras\\src\\saving\\legacy\\saved_model\\load.py:107: The name tf.gfile.Exists is deprecated. Please use tf.io.gfile.exists instead.\n",
      "\n"
     ]
    }
   ],
   "source": [
    "loaded_model = tf.keras.models.load_model('trained_model')"
   ]
  },
  {
   "attachments": {},
   "cell_type": "markdown",
   "metadata": {},
   "source": [
    "**Recording Real-time Audio**"
   ]
  },
  {
   "cell_type": "code",
   "execution_count": 34,
   "metadata": {},
   "outputs": [],
   "source": [
    "def record_audio():\n",
    "    CHUNK = 1024\n",
    "    FORMAT = pyaudio.paInt16\n",
    "    CHANNELS = 1\n",
    "    RATE = 44100\n",
    "    RECORD_SECONDS = 5\n",
    "    WAVE_OUTPUT_FILENAME = \"output.wav\"\n",
    "\n",
    "    audio = pyaudio.PyAudio()\n",
    "\n",
    "    stream = audio.open(format=FORMAT, channels=CHANNELS,\n",
    "                        rate=RATE, input=True,\n",
    "                        frames_per_buffer=CHUNK,\n",
    "                        input_device_index=3)\n",
    "\n",
    "    print(\"Recording...\")\n",
    "\n",
    "    frames = []\n",
    "\n",
    "    for i in range(0, int(RATE / CHUNK * RECORD_SECONDS)):\n",
    "        data = stream.read(CHUNK)\n",
    "        frames.append(data)\n",
    "\n",
    "    print(\"Finished recording.\")\n",
    "\n",
    "    stream.stop_stream()\n",
    "    stream.close()\n",
    "    audio.terminate()\n",
    "\n",
    "    wf = wave.open(WAVE_OUTPUT_FILENAME, 'wb')\n",
    "    wf.setnchannels(CHANNELS)\n",
    "    wf.setsampwidth(audio.get_sample_size(FORMAT))\n",
    "    wf.setframerate(RATE)\n",
    "    wf.writeframes(b''.join(frames))\n",
    "    wf.close()\n",
    "\n",
    "    return WAVE_OUTPUT_FILENAME\n",
    "\n"
   ]
  },
  {
   "attachments": {},
   "cell_type": "markdown",
   "metadata": {},
   "source": [
    "**Prediction on Audio Input**"
   ]
  },
  {
   "cell_type": "code",
   "execution_count": 35,
   "metadata": {},
   "outputs": [
    {
     "name": "stdout",
     "output_type": "stream",
     "text": [
      "Recording...\n",
      "Finished recording.\n",
      "1/1 [==============================] - 0s 99ms/step\n",
      "Predicted gender: Male\n"
     ]
    }
   ],
   "source": [
    "audio_file = record_audio()\n",
    "\n",
    "wf, sr = librosa.load(audio_file)\n",
    "mfcc_wf = librosa.feature.mfcc(y=wf, sr=sr)\n",
    "b = tf.keras.utils.pad_sequences(mfcc_wf, padding='post', maxlen=200)\n",
    "\n",
    "prediction = loaded_model.predict(np.array([b]))\n",
    "\n",
    "if prediction[0][0] > 0.5:\n",
    "    print(\"Predicted gender: Male\")\n",
    "else:\n",
    "    print(\"Predicted gender: Female\")"
   ]
  }
 ],
 "metadata": {
  "kernelspec": {
   "display_name": "Python 3",
   "language": "python",
   "name": "python3"
  },
  "language_info": {
   "codemirror_mode": {
    "name": "ipython",
    "version": 3
   },
   "file_extension": ".py",
   "mimetype": "text/x-python",
   "name": "python",
   "nbconvert_exporter": "python",
   "pygments_lexer": "ipython3",
   "version": "3.10.11"
  },
  "orig_nbformat": 4
 },
 "nbformat": 4,
 "nbformat_minor": 2
}
